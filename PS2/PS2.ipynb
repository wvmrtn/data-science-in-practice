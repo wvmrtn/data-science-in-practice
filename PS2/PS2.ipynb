{
 "cells": [
  {
   "cell_type": "code",
   "execution_count": 155,
   "metadata": {},
   "outputs": [],
   "source": [
    "# import standard libraries\n",
    "import numpy as np\n",
    "# import third-party libraries\n",
    "import pandas as pd\n",
    "# import local libraries\n"
   ]
  },
  {
   "cell_type": "markdown",
   "metadata": {},
   "source": [
    "# Load data"
   ]
  },
  {
   "cell_type": "code",
   "execution_count": 156,
   "metadata": {},
   "outputs": [],
   "source": [
    "# load data \n",
    "df = pd.read_csv('../data/customers.csv')"
   ]
  },
  {
   "cell_type": "markdown",
   "metadata": {},
   "source": [
    "# Data cleaning"
   ]
  },
  {
   "cell_type": "code",
   "execution_count": 157,
   "metadata": {},
   "outputs": [],
   "source": [
    "# convert column TotalCharges to numeric as done in Problem Set 1\n",
    "df.TotalCharges = pd.to_numeric(df.TotalCharges, errors='coerce')\n",
    "df = df.dropna(axis = 0, how = 'any')"
   ]
  },
  {
   "cell_type": "code",
   "execution_count": 158,
   "metadata": {},
   "outputs": [
    {
     "name": "stdout",
     "output_type": "stream",
     "text": [
      "<class 'pandas.core.frame.DataFrame'>\n",
      "Int64Index: 7032 entries, 0 to 7042\n",
      "Data columns (total 21 columns):\n",
      " #   Column            Non-Null Count  Dtype  \n",
      "---  ------            --------------  -----  \n",
      " 0   customerID        7032 non-null   object \n",
      " 1   gender            7032 non-null   object \n",
      " 2   SeniorCitizen     7032 non-null   int64  \n",
      " 3   Partner           7032 non-null   object \n",
      " 4   Dependents        7032 non-null   object \n",
      " 5   tenure            7032 non-null   int64  \n",
      " 6   PhoneService      7032 non-null   object \n",
      " 7   MultipleLines     7032 non-null   object \n",
      " 8   InternetService   7032 non-null   object \n",
      " 9   OnlineSecurity    7032 non-null   object \n",
      " 10  OnlineBackup      7032 non-null   object \n",
      " 11  DeviceProtection  7032 non-null   object \n",
      " 12  TechSupport       7032 non-null   object \n",
      " 13  StreamingTV       7032 non-null   object \n",
      " 14  StreamingMovies   7032 non-null   object \n",
      " 15  Contract          7032 non-null   object \n",
      " 16  PaperlessBilling  7032 non-null   object \n",
      " 17  PaymentMethod     7032 non-null   object \n",
      " 18  MonthlyCharges    7032 non-null   float64\n",
      " 19  TotalCharges      7032 non-null   float64\n",
      " 20  Churn             7032 non-null   object \n",
      "dtypes: float64(2), int64(2), object(17)\n",
      "memory usage: 1.2+ MB\n"
     ]
    }
   ],
   "source": [
    "df.info()"
   ]
  },
  {
   "cell_type": "markdown",
   "metadata": {},
   "source": [
    "# Feature encoding"
   ]
  },
  {
   "cell_type": "code",
   "execution_count": 159,
   "metadata": {},
   "outputs": [],
   "source": [
    "# set customerID to index since we are clearly not going to use this as a feature in our models\n",
    "df = df.set_index('customerID')"
   ]
  },
  {
   "cell_type": "code",
   "execution_count": 160,
   "metadata": {},
   "outputs": [
    {
     "name": "stdout",
     "output_type": "stream",
     "text": [
      "gender: Female, Male\n",
      "Partner: Yes, No\n",
      "Dependents: No, Yes\n",
      "PhoneService: No, Yes\n",
      "MultipleLines: No phone service, No, Yes\n",
      "InternetService: DSL, Fiber optic, No\n",
      "OnlineSecurity: No, Yes, No internet service\n",
      "OnlineBackup: Yes, No, No internet service\n",
      "DeviceProtection: No, Yes, No internet service\n",
      "TechSupport: No, Yes, No internet service\n",
      "StreamingTV: No, Yes, No internet service\n",
      "StreamingMovies: No, Yes, No internet service\n",
      "Contract: Month-to-month, One year, Two year\n",
      "PaperlessBilling: Yes, No\n",
      "PaymentMethod: Electronic check, Mailed check, Bank transfer (automatic), Credit card (automatic)\n",
      "Churn: No, Yes\n"
     ]
    }
   ],
   "source": [
    "# print possibe values for each categorical feature\n",
    "for col in df:\n",
    "    if df[col].dtype == 'object':\n",
    "        print('{}: {}'.format(col, ', '.join(df[col].unique().tolist())))"
   ]
  },
  {
   "cell_type": "code",
   "execution_count": 161,
   "metadata": {},
   "outputs": [],
   "source": [
    "# customers with no internet service\n",
    "customers_nointernet = df[df['InternetService'] == 'No'].index\n",
    "\n",
    "# check features of customers which have any value == 'No internet services' are the same customers where\n",
    "# InternetService == 'No'\n",
    "for col in df:\n",
    "    if 'No internet service' in df[col].unique().tolist():\n",
    "        error = customers_nointernet.difference(df[df[col] == 'No internet service'].index)\n",
    "        assert error.empty # no assert error = good news"
   ]
  },
  {
   "cell_type": "code",
   "execution_count": 162,
   "metadata": {},
   "outputs": [],
   "source": [
    "# create new column internet with binary values 1 yes, 0 no\n",
    "df['Internet'] = df['InternetService'].apply(lambda x: 0 if x == 'No' else 1)\n",
    "# same for DSL / Fiber optic\n",
    "df['DSL'] = df['InternetService'].apply(lambda x: 1 if x == 'DSL' else 0)\n",
    "df['FiberOptic'] = df['InternetService'].apply(lambda x: 1 if x == 'Fiber optic' else 0)\n",
    "# drop useless columns\n",
    "df = df.drop(columns = 'InternetService')"
   ]
  },
  {
   "cell_type": "code",
   "execution_count": 163,
   "metadata": {},
   "outputs": [],
   "source": [
    "# replace features with only two possible values with binary value. We know that if the customer has no \n",
    "# internet service then the customer will not have the service feature. The same goes for multiple lines.\n",
    "yesno = {'Yes': 1, 'No': 0, 'No internet service': 0, 'No phone service': 0}\n",
    "binary_map = {'gender': {'Female': 0, 'Male': 1},\n",
    "              'Partner': yesno,\n",
    "              'Dependents': yesno,\n",
    "              'PhoneService': yesno,\n",
    "              'OnlineSecurity': yesno,\n",
    "              'OnlineBackup': yesno,\n",
    "              'DeviceProtection': yesno,\n",
    "              'TechSupport': yesno,\n",
    "              'StreamingTV': yesno,\n",
    "              'StreamingMovies': yesno,\n",
    "              'PaperlessBilling': yesno,\n",
    "              'Churn': yesno,\n",
    "              'MultipleLines': yesno}\n",
    "df = df.replace(binary_map, inplace = False)\n",
    "df = df.rename(columns = {'gender': 'Male'})"
   ]
  },
  {
   "cell_type": "code",
   "execution_count": 164,
   "metadata": {},
   "outputs": [],
   "source": [
    "# still need to encode contract and payment method features, we use one hot encoding\n",
    "dummies = pd.get_dummies(df[['Contract', 'PaymentMethod']], prefix = ['Contract',  'Payment'], prefix_sep = '=')\n",
    "df = pd.concat([df, dummies], axis = 1)\n",
    "df = df.drop(columns = ['Contract', 'PaymentMethod'])"
   ]
  },
  {
   "cell_type": "code",
   "execution_count": 167,
   "metadata": {},
   "outputs": [
    {
     "name": "stdout",
     "output_type": "stream",
     "text": [
      "<class 'pandas.core.frame.DataFrame'>\n",
      "Index: 7032 entries, 7590-VHVEG to 3186-AJIEK\n",
      "Data columns (total 27 columns):\n",
      " #   Column                             Non-Null Count  Dtype  \n",
      "---  ------                             --------------  -----  \n",
      " 0   Male                               7032 non-null   int64  \n",
      " 1   SeniorCitizen                      7032 non-null   int64  \n",
      " 2   Partner                            7032 non-null   int64  \n",
      " 3   Dependents                         7032 non-null   int64  \n",
      " 4   tenure                             7032 non-null   int64  \n",
      " 5   PhoneService                       7032 non-null   int64  \n",
      " 6   MultipleLines                      7032 non-null   int64  \n",
      " 7   OnlineSecurity                     7032 non-null   int64  \n",
      " 8   OnlineBackup                       7032 non-null   int64  \n",
      " 9   DeviceProtection                   7032 non-null   int64  \n",
      " 10  TechSupport                        7032 non-null   int64  \n",
      " 11  StreamingTV                        7032 non-null   int64  \n",
      " 12  StreamingMovies                    7032 non-null   int64  \n",
      " 13  PaperlessBilling                   7032 non-null   int64  \n",
      " 14  MonthlyCharges                     7032 non-null   float64\n",
      " 15  TotalCharges                       7032 non-null   float64\n",
      " 16  Churn                              7032 non-null   int64  \n",
      " 17  Internet                           7032 non-null   int64  \n",
      " 18  DSL                                7032 non-null   int64  \n",
      " 19  FiberOptic                         7032 non-null   int64  \n",
      " 20  Contract=Month-to-month            7032 non-null   uint8  \n",
      " 21  Contract=One year                  7032 non-null   uint8  \n",
      " 22  Contract=Two year                  7032 non-null   uint8  \n",
      " 23  Payment=Bank transfer (automatic)  7032 non-null   uint8  \n",
      " 24  Payment=Credit card (automatic)    7032 non-null   uint8  \n",
      " 25  Payment=Electronic check           7032 non-null   uint8  \n",
      " 26  Payment=Mailed check               7032 non-null   uint8  \n",
      "dtypes: float64(2), int64(18), uint8(7)\n",
      "memory usage: 1.2+ MB\n"
     ]
    }
   ],
   "source": [
    "# Finished encoding, all dtypes are either int or float\n",
    "df.info()"
   ]
  },
  {
   "cell_type": "code",
   "execution_count": null,
   "metadata": {},
   "outputs": [],
   "source": []
  }
 ],
 "metadata": {
  "kernelspec": {
   "display_name": "Python 3",
   "language": "python",
   "name": "python3"
  },
  "language_info": {
   "codemirror_mode": {
    "name": "ipython",
    "version": 3
   },
   "file_extension": ".py",
   "mimetype": "text/x-python",
   "name": "python",
   "nbconvert_exporter": "python",
   "pygments_lexer": "ipython3",
   "version": "3.7.6"
  }
 },
 "nbformat": 4,
 "nbformat_minor": 4
}
