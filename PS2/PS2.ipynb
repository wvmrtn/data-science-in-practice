{
 "cells": [
  {
   "cell_type": "code",
   "execution_count": 319,
   "metadata": {},
   "outputs": [],
   "source": [
    "# import standard libraries\n",
    "import copy\n",
    "import numpy as np\n",
    "import warnings\n",
    "warnings.filterwarnings('ignore')\n",
    "# import third-party libraries\n",
    "import matplotlib.pyplot as plt\n",
    "import pandas as pd\n",
    "import seaborn as sns\n",
    "from sklearn.ensemble import ExtraTreesClassifier\n",
    "from sklearn.feature_selection import SelectKBest\n",
    "from sklearn.feature_selection import chi2\n",
    "from sklearn.feature_selection import RFECV\n",
    "from sklearn.model_selection import StratifiedKFold\n",
    "from sklearn.linear_model import LogisticRegression\n",
    "from sklearn.metrics import classification_report\n",
    "from sklearn.model_selection import GridSearchCV\n",
    "from sklearn.model_selection import train_test_split\n",
    "from sklearn.neighbors import KNeighborsClassifier\n",
    "from sklearn import preprocessing\n",
    "from sklearn.tree import DecisionTreeClassifier\n",
    "from sklearn.ensemble import RandomForestClassifier\n",
    "from sklearn.svm import SVC\n",
    "# import local libraries\n",
    "\n",
    "# Load data\n",
    "\n",
    "# load data \n",
    "df = pd.read_csv('../data/customers.csv')\n",
    "\n",
    "# Data cleaning\n",
    "\n",
    "# convert column TotalCharges to numeric as done in Problem Set 1\n",
    "df.TotalCharges = pd.to_numeric(df.TotalCharges, errors='coerce')\n",
    "df = df.dropna(axis = 0, how = 'any')\n",
    "\n",
    "df.info()\n",
    "\n",
    "#Target feature is \"Churn\"\n",
    "# Data to plot\n",
    "sizes = df['Churn'].value_counts(sort = True)\n",
    "colors = [\"grey\",\"purple\"] \n",
    "\n",
    "# Plot\n",
    "plt.pie(sizes, colors=colors,autopct='%1.1f%%', labels = ['No', 'Yes'], shadow=False, startangle=270,)\n",
    "plt.title('Percentage of Churn in Dataset')\n",
    "plt.show()\n",
    "\n",
    "churned = df['Churn'].value_counts()[1]\n",
    "\n",
    "churned\n",
    "\n",
    "> Over a quarter of the clients (1869) have churned. We are interested to predict which client will churn in the future based on common features with the ones who have churned so far\n",
    "\n",
    "# Feature encoding\n",
    "\n",
    "# set customerID to index since we are clearly not going to use this as a feature in our models\n",
    "df = df.set_index('customerID')\n",
    "\n",
    "# print possibe values for each categorical feature\n",
    "for col in df:\n",
    "    if df[col].dtype == 'object':\n",
    "        print('{}: {}'.format(col, ', '.join(df[col].unique().tolist())))\n",
    "\n",
    "# customers with no internet service\n",
    "customers_nointernet = df[df['InternetService'] == 'No'].index\n",
    "\n",
    "# check features of customers which have any value == 'No internet services' are the same customers where\n",
    "# InternetService == 'No'\n",
    "for col in df:\n",
    "    if 'No internet service' in df[col].unique().tolist():\n",
    "        error = customers_nointernet.difference(df[df[col] == 'No internet service'].index)\n",
    "        assert error.empty # no assert error = good news\n",
    "\n",
    "# create new column internet with binary values 1 yes, 0 no\n",
    "df['Internet'] = df['InternetService'].apply(lambda x: 0 if x == 'No' else 1)\n",
    "# same for DSL / Fiber optic\n",
    "df['DSL'] = df['InternetService'].apply(lambda x: 1 if x == 'DSL' else 0)\n",
    "df['FiberOptic'] = df['InternetService'].apply(lambda x: 1 if x == 'Fiber optic' else 0)\n",
    "# drop useless columns\n",
    "df = df.drop(columns = 'InternetService')\n",
    "\n",
    "# replace features with only two possible values with binary value. We know that if the customer has no \n",
    "# internet service then the customer will not have the service feature. The same goes for multiple lines.\n",
    "binary_map = {'Yes': 1, 'No': 0, 'No internet service': 0, 'No phone service': 0, 'Female': 0, 'Male': 1}\n",
    "replace_dict = {'gender': binary_map,\n",
    "                'Partner': binary_map,\n",
    "                'Dependents': binary_map,\n",
    "                'PhoneService': binary_map,\n",
    "                'OnlineSecurity': binary_map,\n",
    "                'OnlineBackup': binary_map,\n",
    "                'DeviceProtection': binary_map,\n",
    "                'TechSupport': binary_map,\n",
    "                'StreamingTV': binary_map,\n",
    "                'StreamingMovies': binary_map,\n",
    "                'PaperlessBilling': binary_map,\n",
    "                'Churn': binary_map,\n",
    "                'MultipleLines': binary_map}\n",
    "df = df.replace(replace_dict, inplace = False)\n",
    "df = df.rename(columns = {'gender': 'Male'})\n",
    "\n",
    "# still need to encode contract and payment method features, we use one hot encoding\n",
    "dummies = pd.get_dummies(df[['Contract', 'PaymentMethod']], prefix = ['Contract',  'Payment'], prefix_sep = '=')\n",
    "df = pd.concat([df, dummies], axis = 1)\n",
    "df = df.drop(columns = ['Contract', 'PaymentMethod'])\n",
    "\n",
    "for col in df.columns:\n",
    "    if df[col].dtype == 'object':\n",
    "        df[col] = df[col].astype(int)\n",
    "\n",
    "# Finished encoding, all dtypes are either int or float\n",
    "df.info()\n",
    "\n",
    "# Feature selection\n",
    "\n",
    "# Irrelevant or partially relevant features can negatively impact model performance\n",
    "# This is why we need to go through feature selection.\n",
    "\n",
    "# separate exo/indogenoeous variables\n",
    "X, y = df.drop(columns = 'Churn'), df[['Churn']]\n",
    "\n",
    "## Recursive selection\n",
    "\n",
    "#Allows us to determine the optimal number of features to select for perdiction\n",
    "selector_rfe = RFECV(estimator=SVC(kernel = 'linear'), cv = StratifiedKFold(10), step = 1)\n",
    "selector_rfe = selector_rfe.fit(X_norm, y)\n",
    "\n",
    "plt.plot(np.arange(1,27), selector_rfe.grid_scores_)\n",
    "plt.title('Determing optimal number of features to consider')\n",
    "plt.ylabel('Accuracy')\n",
    "plt.xlabel('Number of features')\n",
    "plt.show()\n",
    "\n",
    "optimal_number = np.argmax(selector_rfe.grid_scores_)\n",
    "max_accuracy = selector_rfe.grid_scores_[optimal_number]\n",
    "mask_rfe = selector_rfe.support_\n",
    "\n",
    "#num_feats = optimal_number\n",
    "num_feats = 7\n",
    "rfe_feature = X.loc[:,mask_rfe].columns.tolist()\n",
    "\n",
    "## SelectKBest\n",
    "\n",
    "# use the selet k best method from sklearn and evaluate with the chi squared function\n",
    "X_norm = preprocessing.MinMaxScaler().fit_transform(X)\n",
    "selector_kbest = SelectKBest(score_func = chi2, k = 'all')\n",
    "selector_kbest.fit(X_norm, y)\n",
    "mask_kbest = selector_kbest.get_support()\n",
    "features_kbest = pd.Series(data = selector_kbest.scores_, index = X.columns)\n",
    "features_kbest_sorted = features_kbest.sort_values(ascending = False)\n",
    "\n",
    "chi_feature = features_kbest_sorted.index[:num_feats].tolist()\n",
    "\n",
    "# show features from best to worst (mind the log scale)\n",
    "fig, ax = plt.subplots(figsize = (14, 7))\n",
    "_ = sns.barplot(y = features_kbest_sorted.index, x = features_kbest_sorted.values, orient = 'h', ax = ax,\n",
    "                palette = sns.cubehelix_palette(len(features_kbest), reverse = True))\n",
    "ax.set_xscale(\"log\")\n",
    "ax.set_title('Best features based on SelectKBest')\n",
    "plt.show()\n",
    "\n",
    "## ExtraTreesClassifier\n",
    "\n",
    "# use the extra trees classifire from sklearn\n",
    "common = 2 #we think that 5% of the people who have churned must be in the sample to do deeper in the node of the tree\n",
    "min_samples_leaf = int(common * churned / 100)\n",
    "selector_trees_gini = ExtraTreesClassifier(criterion = 'gini', min_samples_leaf = min_samples_leaf)\n",
    "selector_trees_gini.fit(X, y)\n",
    "features_trees_gini = pd.Series(data = selector_trees_gini.feature_importances_, index = X.columns)\n",
    "features_trees_sorted_gini = features_trees_gini.sort_values(ascending = False)\n",
    "\n",
    "trees_feature_gini = features_trees_sorted_gini.index[:num_feats].tolist()\n",
    "\n",
    "# show features from best to worst\n",
    "fig, ax = plt.subplots(figsize = (14, 7))\n",
    "_ = sns.barplot(y = features_trees_sorted_gini.index, x = features_trees_sorted_gini.values, orient = 'h', ax = ax,\n",
    "                palette = sns.cubehelix_palette(len(features_trees_gini), reverse = True))\n",
    "ax.set_title('Best features based on ExtraTreesClassifier with Gini')\n",
    "plt.show()\n",
    "\n",
    "# use the extra trees classifire from sklearn\n",
    "selector_trees_entropy = ExtraTreesClassifier(criterion = 'entropy', min_samples_leaf = min_samples_leaf)\n",
    "selector_trees_entropy.fit(X, y)\n",
    "features_trees_entropy = pd.Series(data = selector_trees_entropy.feature_importances_, index = X.columns)\n",
    "features_trees_sorted_entropy = features_trees_entropy.sort_values(ascending = False)\n",
    "\n",
    "trees_feature_entropy = features_trees_sorted_entropy.index[:num_feats].tolist()\n",
    "\n",
    "# show features from best to worst\n",
    "fig, ax = plt.subplots(figsize = (14, 7))\n",
    "_ = sns.barplot(y = features_trees_sorted_entropy.index, x = features_trees_sorted_entropy.values, orient = 'h', ax = ax,\n",
    "                palette = sns.cubehelix_palette(len(features_trees_entropy), reverse = True))\n",
    "ax.set_title('Best features based on ExtraTreesClassifier with Entropy')\n",
    "plt.show()\n",
    "\n",
    "## Pearson correlation selection\n",
    "\n",
    "def cor_selector(X, y, num_feats):\n",
    "    cor_list = []\n",
    "    feature_name = X.columns.tolist()\n",
    "    # calculate the correlation with y for each feature\n",
    "    for i in X.columns:\n",
    "        cor = np.corrcoef(X[i], y.iloc[:,0])[0, 1]\n",
    "        cor_list.append(cor)\n",
    "    # replace NaN with 0\n",
    "    cor_list = [0 if np.isnan(i) else i for i in cor_list]\n",
    "    # feature name\n",
    "    cor_feature = X.iloc[:,np.argsort(np.abs(cor_list))[-num_feats:]].columns.tolist()\n",
    "    # feature selection? 0 for not select, 1 for select\n",
    "    cor_support = [True if i in cor_feature else False for i in feature_name]\n",
    "    \n",
    "    return cor_support, cor_feature, cor_list\n",
    "\n",
    "cor_support, cor_feature, cor_list = cor_selector(X, y,num_feats)\n",
    "\n",
    "best_features_all = set(rfe_feature).intersection(set(chi_feature)).intersection(set(trees_feature_gini)).intersection(set(trees_feature_entropy))\n",
    "\n",
    "best_features_all\n",
    "\n",
    "## Correlation matrix among all features\n",
    "\n",
    "corr_matrix_kendall = df.corr('kendall')\n",
    "corr_matrix_pearson = df.corr()\n",
    "\n",
    "# plot heatmap of correelation matrix\n",
    "fig, ax = plt.subplots(figsize = (20, 20))\n",
    "ax = sns.heatmap(corr_matrix_kendall, annot = True, cmap = 'Purples')\n",
    "plt.xticks(rotation = 60)\n",
    "plt.title('Correlation map with Kendall method')\n",
    "plt.show()\n",
    "\n",
    "# plot heatmap of correelation matrix\n",
    "fig, ax = plt.subplots(figsize = (20, 20))\n",
    "ax = sns.heatmap(corr_matrix_pearson, annot = True, cmap = 'Purples')\n",
    "plt.xticks(rotation = 60)\n",
    "plt.title('Correlation map with Pearson method')\n",
    "plt.show()\n",
    "\n",
    "All three methods of feature selection seem to point that the following features are relevant when modelling (more or less)\n",
    "* Contract=Month-to-month\n",
    "* Payment=Electronic check\n",
    "* FiberOptic\n",
    "* MonthlyCharges\n",
    "* tenure\n",
    "* TotalCharges\n",
    "* Contract=Two year"
   ]
  },
  {
   "cell_type": "markdown",
   "metadata": {},
   "source": [
    "## Transform"
   ]
  },
  {
   "cell_type": "code",
   "execution_count": 23,
   "metadata": {},
   "outputs": [],
   "source": [
    "# custom selection\n",
    "selected_features = [\n",
    "    #'Male', \n",
    "    #'SeniorCitizen', \n",
    "    #'Partner', \n",
    "    #'Dependents', \n",
    "    'tenure',\n",
    "    #'PhoneService', \n",
    "    #'MultipleLines', \n",
    "    #'OnlineSecurity', \n",
    "    #'OnlineBackup',\n",
    "    #'DeviceProtection', \n",
    "    #'TechSupport', \n",
    "    #'StreamingTV', \n",
    "    #'StreamingMovies',\n",
    "    #'PaperlessBilling', \n",
    "    'MonthlyCharges', \n",
    "    'TotalCharges', \n",
    "    #'Internet', \n",
    "    #'DSL',\n",
    "    'FiberOptic', \n",
    "    'Contract=Month-to-month', \n",
    "    #'Contract=One year',\n",
    "    #'Contract=Two year', \n",
    "    #'Payment=Bank transfer (automatic)',\n",
    "    #'Payment=Credit card (automatic)', \n",
    "    #'Payment=Electronic check',\n",
    "    #'Payment=Mailed check'\n",
    "]"
   ]
  },
  {
   "cell_type": "markdown",
   "metadata": {},
   "source": [
    "# Predicting churn"
   ]
  },
  {
   "cell_type": "markdown",
   "metadata": {},
   "source": [
    "## Scaling the data"
   ]
  },
  {
   "cell_type": "code",
   "execution_count": 24,
   "metadata": {},
   "outputs": [],
   "source": [
    "min_max_scaler = preprocessing.MinMaxScaler(feature_range = (0, 1)) # reasonable since most categorial variables are either 0 or 1\n",
    "min_max_scaler = min_max_scaler.fit(df)\n",
    "df_min_max = min_max_scaler.transform(df)\n",
    "df_min_max = pd.DataFrame(data = df_min_max, columns = df.columns, index = df.index)"
   ]
  },
  {
   "cell_type": "code",
   "execution_count": 369,
   "metadata": {},
   "outputs": [],
   "source": [
    "#define constant for methods \n",
    "CV = 7 "
   ]
  },
  {
   "cell_type": "markdown",
   "metadata": {},
   "source": [
    "## K-Neighbors classifier"
   ]
  },
  {
   "cell_type": "code",
   "execution_count": 25,
   "metadata": {},
   "outputs": [],
   "source": [
    "# define grid parameters to use for gridsearch\n",
    "param_grid_kneigh = {'weights': ['uniform', 'distance'], \n",
    "                       'metric': ['euclidean', 'minkowski'], \n",
    "                       'n_neighbors': [2,3,5,7,11]\n",
    "                    }\n",
    "\n",
    "# define the classifier through a gridsearch and tune hyperparameters by cross-validation as well\n",
    "classifier_kneigh = GridSearchCV(KNeighborsClassifier(algorithm = 'auto'),\n",
    "                                scoring = 'accuracy',\n",
    "                                param_grid = param_grid_kneigh,\n",
    "                                cv = CV\n",
    "                                )"
   ]
  },
  {
   "cell_type": "markdown",
   "metadata": {},
   "source": [
    "## Random Tree"
   ]
  },
  {
   "cell_type": "code",
   "execution_count": 26,
   "metadata": {},
   "outputs": [],
   "source": [
    "# define grid parameters to use for gridsearch\n",
    "param_grid_trees = {'max_depth': [1, 5, 10, 50, 100, 200,500],\n",
    "                    'min_samples_split': [2, 4, 8, 16],\n",
    "                    'min_samples_leaf': [1, 5, 10, 50, 100, 200],\n",
    "                    }\n",
    "\n",
    "# define the classifier through a gridsearch and tune hyperparameters by cross-validation as well\n",
    "classifier_trees = GridSearchCV(DecisionTreeClassifier(),\n",
    "                                param_grid = param_grid_trees,\n",
    "                                scoring = 'accuracy',\n",
    "                                cv = CV\n",
    "                                )"
   ]
  },
  {
   "cell_type": "markdown",
   "metadata": {},
   "source": [
    "## Random Forest"
   ]
  },
  {
   "cell_type": "code",
   "execution_count": 27,
   "metadata": {},
   "outputs": [],
   "source": [
    "# define grid parameters to use for gridsearch\n",
    "param_grid_forest = {'n_estimators': [3,5,10,50,100,150,200],\n",
    "                     'max_depth': [1, 5, 10, 50],\n",
    "                     'min_samples_split': [2, 4, 8],\n",
    "                     'min_samples_leaf': [10, 50, 100, 200],\n",
    "                     }\n",
    "\n",
    "# define the classifier through a gridsearch and tune hyperparameters by cross-validation\n",
    "classifier_forest = GridSearchCV(RandomForestClassifier(),\n",
    "                                 param_grid = param_grid_forest,\n",
    "                                 scoring = 'accuracy',\n",
    "                                 cv = CV\n",
    "                                 )"
   ]
  },
  {
   "cell_type": "markdown",
   "metadata": {},
   "source": [
    "## Support Vector Machine "
   ]
  },
  {
   "cell_type": "code",
   "execution_count": 28,
   "metadata": {},
   "outputs": [],
   "source": [
    "# define grid parameters to use for gridsearch\n",
    "param_grid_svc = {'C': [1, 10, 100, 1000], \n",
    "                  'gamma': [0.1, 0.01, 0.001, 0.0001],\n",
    "                 }\n",
    "\n",
    "# define the classifier through a gridsearch and tune hyperparameters by cross-validation as well\n",
    "classifier_svc = GridSearchCV(SVC(kernel = 'rbf'),\n",
    "                              param_grid = param_grid_svc,\n",
    "                              scoring = 'accuracy',\n",
    "                              cv = CV\n",
    "                              )"
   ]
  },
  {
   "cell_type": "markdown",
   "metadata": {},
   "source": [
    "## Split train/test set"
   ]
  },
  {
   "cell_type": "code",
   "execution_count": null,
   "metadata": {},
   "outputs": [],
   "source": [
    "# split 80/20 ratio \n",
    "score_trees = []\n",
    "score_forest = []\n",
    "score_svc = []\n",
    "score_kneigh = []\n",
    "\n",
    "#test for all methods \n",
    "i = 1\n",
    "while i < 7: \n",
    "    # selection from algorithm\n",
    "    selected_features_kbest = features_kbest_sorted.index[0:i]\n",
    "    selected_features_gini = features_trees_sorted_gini.index[0:i]\n",
    "    selected_features_entropy = features_trees_sorted_entropy.index[0:i]\n",
    "    \n",
    "    features = [selected_features, selected_features_kbest, selected_features_gini, selected_features_entropy]\n",
    "    for f in features: \n",
    "        X_feat_min_max = df_min_max[f]\n",
    "        X_train, X_test, y_train, y_test = train_test_split(X_feat_min_max, y, test_size = 0.2)\n",
    "        X_train_forest, X_test_forest, y_train_forest, y_test_forest = train_test_split(df[f], y, test_size = 0.2)\n",
    "        \n",
    "        classifier_kneigh.fit(X_train, y_train)\n",
    "        classifier_trees.fit(X_train, y_train)\n",
    "        classifier_forest.fit(X_train_forest, y_train_forest)\n",
    "        classifier_svc.fit(X_train, y_train)\n",
    "        \n",
    "        score_kneigh.append(classifier_kneigh.score(X_test, y_test))\n",
    "        score_trees.append(classifier_trees.score(X_test, y_test))\n",
    "        score_forest.append(classifier_forest.score(X_test_forest,y_test_forest))\n",
    "        score_svc.append(classifier_svc.score(X_test, y_test))\n",
    "        \n",
    "    i = i + 1 \n"
   ]
  },
  {
   "cell_type": "code",
   "execution_count": 62,
   "metadata": {},
   "outputs": [
    {
     "data": {
      "text/plain": [
       "3"
      ]
     },
     "execution_count": 62,
     "metadata": {},
     "output_type": "execute_result"
    }
   ],
   "source": [
    "i"
   ]
  },
  {
   "cell_type": "code",
   "execution_count": null,
   "metadata": {},
   "outputs": [],
   "source": [
    "# split 80/20 ratio \n",
    "score_forest = []\n",
    "\n",
    "#test for all methods \n",
    "i = 1\n",
    "while i < 7: \n",
    "    # selection from algorithm\n",
    "    selected_features_kbest = features_kbest_sorted.index[0:i]\n",
    "    selected_features_gini = features_trees_sorted_gini.index[0:i]\n",
    "    selected_features_entropy = features_trees_sorted_entropy.index[0:i]\n",
    "    \n",
    "    features = [selected_features, selected_features_kbest, selected_features_gini, selected_features_entropy]\n",
    "    for f in features: \n",
    "     \n",
    "        X_train_forest, X_test_forest, y_train_forest, y_test_forest = train_test_split(df[f], y, test_size = 0.2)\n",
    "        \n",
    "        classifier_forest.fit(X_train_forest, y_train_forest)\n",
    "        \n",
    "        score_forest.append(classifier_forest.score(X_test_forest,y_test_forest))\n",
    "        \n",
    "    i = i + 1 \n"
   ]
  },
  {
   "cell_type": "code",
   "execution_count": 67,
   "metadata": {},
   "outputs": [],
   "source": [
    "# selection from algorithm\n",
    "score_forest_i = []\n",
    "selected_features_kbest = features_kbest_sorted.index[0:3]\n",
    "selected_features_gini = features_trees_sorted_gini.index[0:3]\n",
    "selected_features_entropy = features_trees_sorted_entropy.index[0:3]\n",
    "    \n",
    "features = [selected_features, selected_features_kbest, selected_features_gini, selected_features_entropy]\n",
    "for f in features: \n",
    "    X_train_forest, X_test_forest, y_train_forest, y_test_forest = train_test_split(df[f], y, test_size = 0.2)\n",
    "        \n",
    "    classifier_forest.fit(X_train_forest, y_train_forest)\n",
    "        \n",
    "    score_forest_i.append(classifier_forest.score(X_test_forest,y_test_forest))"
   ]
  },
  {
   "cell_type": "code",
   "execution_count": 55,
   "metadata": {},
   "outputs": [],
   "source": [
    "index = ['Manual','Kbest', 'Gini', 'Entropy','Manual','Kbest', 'Gini', 'Entropy']"
   ]
  },
  {
   "cell_type": "code",
   "execution_count": 56,
   "metadata": {},
   "outputs": [
    {
     "data": {
      "image/png": "[encoded data removed]",
      "text/plain": [
       "<Figure size 432x288 with 1 Axes>"
      ]
     },
     "metadata": {
      "needs_background": "light"
     },
     "output_type": "display_data"
    }
   ],
   "source": [
    "plt.scatter(index, score_kneigh)\n",
    "plt.scatter(index, score_trees)\n",
    "plt.scatter(index, score_forest)\n",
    "plt.scatter(index, score_svc)\n",
    "plt.legend(['K-neighbors', 'Random Trees', 'Random Forest', 'Support Vector Machine'], loc='lower left')\n",
    "plt.title('Accuracy scores for differently selected features and methods')\n",
    "plt.show()"
   ]
  },
  {
   "cell_type": "code",
   "execution_count": 63,
   "metadata": {},
   "outputs": [
    {
     "data": {
      "text/plain": [
       "[0.7867803837953091,\n",
       " 0.7405828002842928,\n",
       " 0.6496090973702914,\n",
       " 0.6481876332622601,\n",
       " 0.7953091684434968,\n",
       " 0.7867803837953091,\n",
       " 0.7412935323383084,\n",
       " 0.7320540156361052,\n",
       " 0.7711442786069652,\n",
       " 0.8102345415778252,\n",
       " 0.7761194029850746,\n",
       " 0.7590618336886994,\n",
       " 0.7846481876332623,\n",
       " 0.775408670931059,\n",
       " 0.7690120824449183,\n",
       " 0.744136460554371,\n",
       " 0.7789623312011372,\n",
       " 0.7796730632551528]"
      ]
     },
     "execution_count": 63,
     "metadata": {},
     "output_type": "execute_result"
    }
   ],
   "source": [
    "score_kneigh"
   ]
  },
  {
   "cell_type": "code",
   "execution_count": 64,
   "metadata": {},
   "outputs": [
    {
     "data": {
      "text/plain": [
       "[0.798862828713575,\n",
       " 0.7491115849324804,\n",
       " 0.7377398720682303,\n",
       " 0.7192608386638237,\n",
       " 0.7960199004975125,\n",
       " 0.7995735607675906,\n",
       " 0.7512437810945274,\n",
       " 0.7391613361762616,\n",
       " 0.7967306325515281]"
      ]
     },
     "execution_count": 64,
     "metadata": {},
     "output_type": "execute_result"
    }
   ],
   "source": [
    "score_forest"
   ]
  },
  {
   "cell_type": "code",
   "execution_count": 65,
   "metadata": {},
   "outputs": [
    {
     "data": {
      "text/plain": [
       "[0.7690120824449183,\n",
       " 0.7619047619047619,\n",
       " 0.7121535181236673,\n",
       " 0.7249466950959488,\n",
       " 0.7910447761194029,\n",
       " 0.7839374555792467,\n",
       " 0.7690120824449183,\n",
       " 0.7533759772565742,\n",
       " 0.7782515991471215,\n",
       " 0.806680881307747,\n",
       " 0.7803837953091685,\n",
       " 0.7484008528784648,\n",
       " 0.783226723525231,\n",
       " 0.7690120824449183,\n",
       " 0.8024164889836531,\n",
       " 0.7547974413646056,\n",
       " 0.7782515991471215,\n",
       " 0.7718550106609808]"
      ]
     },
     "execution_count": 65,
     "metadata": {},
     "output_type": "execute_result"
    }
   ],
   "source": [
    "score_trees"
   ]
  },
  {
   "cell_type": "code",
   "execution_count": 66,
   "metadata": {},
   "outputs": [
    {
     "data": {
      "text/plain": [
       "[0.7853589196872779,\n",
       " 0.744136460554371,\n",
       " 0.7121535181236673,\n",
       " 0.7249466950959488,\n",
       " 0.7960199004975125,\n",
       " 0.7512437810945274,\n",
       " 0.757640369580668,\n",
       " 0.7420042643923241,\n",
       " 0.7789623312011372,\n",
       " 0.8123667377398721,\n",
       " 0.7889125799573561,\n",
       " 0.738450604122246,\n",
       " 0.7981520966595593,\n",
       " 0.757640369580668,\n",
       " 0.7945984363894811,\n",
       " 0.7540867093105899,\n",
       " 0.7867803837953091,\n",
       " 0.783226723525231]"
      ]
     },
     "execution_count": 66,
     "metadata": {},
     "output_type": "execute_result"
    }
   ],
   "source": [
    "score_svc"
   ]
  },
  {
   "cell_type": "code",
   "execution_count": 68,
   "metadata": {},
   "outputs": [
    {
     "data": {
      "text/plain": [
       "[0.7853589196872779,\n",
       " 0.7931769722814499,\n",
       " 0.7903340440653873,\n",
       " 0.7583511016346838]"
      ]
     },
     "execution_count": 68,
     "metadata": {},
     "output_type": "execute_result"
    }
   ],
   "source": [
    "score_forest_i"
   ]
  },
  {
   "cell_type": "code",
   "execution_count": null,
   "metadata": {},
   "outputs": [],
   "source": []
  }
 ],
 "metadata": {
  "kernelspec": {
   "display_name": "Python 3",
   "language": "python",
   "name": "python3"
  },
  "language_info": {
   "codemirror_mode": {
    "name": "ipython",
    "version": 3
   },
   "file_extension": ".py",
   "mimetype": "text/x-python",
   "name": "python",
   "nbconvert_exporter": "python",
   "pygments_lexer": "ipython3",
   "version": "3.7.4"
  }
 },
 "nbformat": 4,
 "nbformat_minor": 4
}
