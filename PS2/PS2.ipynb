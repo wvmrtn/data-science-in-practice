{
 "cells": [
  {
   "cell_type": "code",
   "execution_count": null,
   "metadata": {
    "colab": {
     "base_uri": "https://localhost:8080/",
     "height": 122
    },
    "colab_type": "code",
    "executionInfo": {
     "elapsed": 33461,
     "status": "ok",
     "timestamp": 1584704263944,
     "user": {
      "displayName": "Myriam Ghali",
      "photoUrl": "",
      "userId": "12645294788233589682"
     },
     "user_tz": -60
    },
    "id": "RRsUEeBEd0a3",
    "outputId": "49d93d08-73e8-4be3-eda5-6af990c01cdb"
   },
   "outputs": [],
   "source": [
    "#from google.colab import drive\n",
    "#drive.mount('/content/drive')"
   ]
  },
  {
   "cell_type": "code",
   "execution_count": null,
   "metadata": {
    "colab": {},
    "colab_type": "code",
    "id": "WG01JrO_c8Eh"
   },
   "outputs": [],
   "source": [
    "# import standard libraries\n",
    "import copy\n",
    "import pickle\n",
    "import numpy as np\n",
    "import warnings\n",
    "warnings.filterwarnings('ignore')\n",
    "# import third-party libraries\n",
    "import matplotlib.pyplot as plt\n",
    "import pandas as pd\n",
    "import seaborn as sns\n",
    "from sklearn.ensemble import ExtraTreesClassifier\n",
    "from sklearn.feature_selection import SelectKBest\n",
    "from sklearn.feature_selection import chi2\n",
    "from sklearn.feature_selection import RFECV\n",
    "from sklearn.model_selection import StratifiedKFold\n",
    "from sklearn.linear_model import LogisticRegression\n",
    "from sklearn.metrics import classification_report\n",
    "from sklearn.model_selection import GridSearchCV\n",
    "from sklearn.model_selection import train_test_split\n",
    "from sklearn.neighbors import KNeighborsClassifier\n",
    "from sklearn import preprocessing\n",
    "from sklearn.tree import DecisionTreeClassifier\n",
    "from sklearn.ensemble import RandomForestClassifier\n",
    "from sklearn.svm import SVC\n",
    "# import local libraries"
   ]
  },
  {
   "cell_type": "markdown",
   "metadata": {
    "colab_type": "text",
    "id": "K7zZmtv_6RrJ"
   },
   "source": [
    "# Load data\n"
   ]
  },
  {
   "cell_type": "code",
   "execution_count": null,
   "metadata": {
    "colab": {},
    "colab_type": "code",
    "id": "vOe306pB6NVi"
   },
   "outputs": [],
   "source": [
    "# load data \n",
    "#df = pd.read_csv('../data/customers.csv')\n",
    "df = pd.read_csv('/content/drive/My Drive/ds/customers.csv')"
   ]
  },
  {
   "cell_type": "markdown",
   "metadata": {
    "colab_type": "text",
    "id": "nDM37nzh6JIH"
   },
   "source": [
    "# Data cleaning\n"
   ]
  },
  {
   "cell_type": "code",
   "execution_count": 98,
   "metadata": {
    "colab": {
     "base_uri": "https://localhost:8080/",
     "height": 459
    },
    "colab_type": "code",
    "executionInfo": {
     "elapsed": 378,
     "status": "ok",
     "timestamp": 1584725251912,
     "user": {
      "displayName": "Myriam Ghali",
      "photoUrl": "",
      "userId": "12645294788233589682"
     },
     "user_tz": -60
    },
    "id": "KGNw_BGf6Hgw",
    "outputId": "3b0b26e5-2c70-4371-c589-81e8be9a41e6"
   },
   "outputs": [
    {
     "name": "stdout",
     "output_type": "stream",
     "text": [
      "<class 'pandas.core.frame.DataFrame'>\n",
      "Int64Index: 7032 entries, 0 to 7042\n",
      "Data columns (total 21 columns):\n",
      "customerID          7032 non-null object\n",
      "gender              7032 non-null object\n",
      "SeniorCitizen       7032 non-null int64\n",
      "Partner             7032 non-null object\n",
      "Dependents          7032 non-null object\n",
      "tenure              7032 non-null int64\n",
      "PhoneService        7032 non-null object\n",
      "MultipleLines       7032 non-null object\n",
      "InternetService     7032 non-null object\n",
      "OnlineSecurity      7032 non-null object\n",
      "OnlineBackup        7032 non-null object\n",
      "DeviceProtection    7032 non-null object\n",
      "TechSupport         7032 non-null object\n",
      "StreamingTV         7032 non-null object\n",
      "StreamingMovies     7032 non-null object\n",
      "Contract            7032 non-null object\n",
      "PaperlessBilling    7032 non-null object\n",
      "PaymentMethod       7032 non-null object\n",
      "MonthlyCharges      7032 non-null float64\n",
      "TotalCharges        7032 non-null float64\n",
      "Churn               7032 non-null object\n",
      "dtypes: float64(2), int64(2), object(17)\n",
      "memory usage: 1.2+ MB\n"
     ]
    }
   ],
   "source": [
    "# convert column TotalCharges to numeric as done in Problem Set 1\n",
    "df.TotalCharges = pd.to_numeric(df.TotalCharges, errors='coerce')\n",
    "df = df.dropna(axis = 0, how = 'any')\n",
    "\n",
    "df.info()"
   ]
  },
  {
   "cell_type": "code",
   "execution_count": null,
   "metadata": {
    "colab": {},
    "colab_type": "code",
    "id": "S9WLIN0X6CVZ"
   },
   "outputs": [],
   "source": [
    "#Target feature is \"Churn\"\n",
    "# Data to plot\n",
    "sizes = df['Churn'].value_counts(sort = True)\n",
    "colors = [\"grey\",\"purple\"] "
   ]
  },
  {
   "cell_type": "code",
   "execution_count": 100,
   "metadata": {
    "colab": {
     "base_uri": "https://localhost:8080/",
     "height": 264
    },
    "colab_type": "code",
    "executionInfo": {
     "elapsed": 1171,
     "status": "ok",
     "timestamp": 1584725264984,
     "user": {
      "displayName": "Myriam Ghali",
      "photoUrl": "",
      "userId": "12645294788233589682"
     },
     "user_tz": -60
    },
    "id": "SB3lAjOt5pZo",
    "outputId": "06d2da80-cbe1-43b6-a978-a020e8abe3d7"
   },
   "outputs": [
    {
     "data": {
      "image/png": "[encoded data removed]",
      "text/plain": [
       "<Figure size 432x288 with 1 Axes>"
      ]
     },
     "metadata": {
      "tags": []
     },
     "output_type": "display_data"
    }
   ],
   "source": [
    "# Plot\n",
    "plt.pie(sizes, colors=colors,autopct='%1.1f%%', labels = ['No', 'Yes'], shadow=False, startangle=270,)\n",
    "plt.title('Percentage of Churn in Dataset')\n",
    "plt.show()"
   ]
  },
  {
   "cell_type": "code",
   "execution_count": 101,
   "metadata": {
    "colab": {
     "base_uri": "https://localhost:8080/",
     "height": 34
    },
    "colab_type": "code",
    "executionInfo": {
     "elapsed": 940,
     "status": "ok",
     "timestamp": 1584725265906,
     "user": {
      "displayName": "Myriam Ghali",
      "photoUrl": "",
      "userId": "12645294788233589682"
     },
     "user_tz": -60
    },
    "id": "86xu8h5Z5pmi",
    "outputId": "c4d30833-4037-4036-be52-4bf90daaf405"
   },
   "outputs": [
    {
     "data": {
      "text/plain": [
       "1869"
      ]
     },
     "execution_count": 101,
     "metadata": {
      "tags": []
     },
     "output_type": "execute_result"
    }
   ],
   "source": [
    "churned = df['Churn'].value_counts()[1]\n",
    "churned"
   ]
  },
  {
   "cell_type": "markdown",
   "metadata": {
    "colab_type": "text",
    "id": "5jmH4Da558tu"
   },
   "source": [
    "> Over a quarter of the clients (1869) have churned. We are interested to predict which client will churn in the future based on common features with the ones who have churned so far."
   ]
  },
  {
   "cell_type": "markdown",
   "metadata": {
    "colab_type": "text",
    "id": "hsbE_FTx547f"
   },
   "source": [
    "# Feature encoding\n"
   ]
  },
  {
   "cell_type": "code",
   "execution_count": 102,
   "metadata": {
    "colab": {
     "base_uri": "https://localhost:8080/",
     "height": 289
    },
    "colab_type": "code",
    "executionInfo": {
     "elapsed": 688,
     "status": "ok",
     "timestamp": 1584725271104,
     "user": {
      "displayName": "Myriam Ghali",
      "photoUrl": "",
      "userId": "12645294788233589682"
     },
     "user_tz": -60
    },
    "id": "jSbdcVp35qG1",
    "outputId": "d0cbb91b-c00c-49b0-d2b3-1d8cb66b05c3"
   },
   "outputs": [
    {
     "name": "stdout",
     "output_type": "stream",
     "text": [
      "gender: Female, Male\n",
      "Partner: Yes, No\n",
      "Dependents: No, Yes\n",
      "PhoneService: No, Yes\n",
      "MultipleLines: No phone service, No, Yes\n",
      "InternetService: DSL, Fiber optic, No\n",
      "OnlineSecurity: No, Yes, No internet service\n",
      "OnlineBackup: Yes, No, No internet service\n",
      "DeviceProtection: No, Yes, No internet service\n",
      "TechSupport: No, Yes, No internet service\n",
      "StreamingTV: No, Yes, No internet service\n",
      "StreamingMovies: No, Yes, No internet service\n",
      "Contract: Month-to-month, One year, Two year\n",
      "PaperlessBilling: Yes, No\n",
      "PaymentMethod: Electronic check, Mailed check, Bank transfer (automatic), Credit card (automatic)\n",
      "Churn: No, Yes\n"
     ]
    }
   ],
   "source": [
    "# set customerID to index since we are clearly not going to use this as a feature in our models\n",
    "df = df.set_index('customerID')\n",
    "\n",
    "# print possibe values for each categorical feature\n",
    "for col in df:\n",
    "    if df[col].dtype == 'object':\n",
    "        print('{}: {}'.format(col, ', '.join(df[col].unique().tolist())))\n",
    "\n",
    "# customers with no internet service\n",
    "customers_nointernet = df[df['InternetService'] == 'No'].index"
   ]
  },
  {
   "cell_type": "code",
   "execution_count": null,
   "metadata": {
    "colab": {},
    "colab_type": "code",
    "id": "VOf0-vKX5php"
   },
   "outputs": [],
   "source": [
    "# check features of customers which have any value == 'No internet services' are the same customers where\n",
    "# InternetService == 'No'\n",
    "for col in df:\n",
    "    if 'No internet service' in df[col].unique().tolist():\n",
    "        error = customers_nointernet.difference(df[df[col] == 'No internet service'].index)\n",
    "        assert error.empty # no assert error = good news\n",
    "\n",
    "# create new column internet with binary values 1 yes, 0 no\n",
    "df['Internet'] = df['InternetService'].apply(lambda x: 0 if x == 'No' else 1)\n",
    "# same for DSL / Fiber optic\n",
    "df['DSL'] = df['InternetService'].apply(lambda x: 1 if x == 'DSL' else 0)\n",
    "df['FiberOptic'] = df['InternetService'].apply(lambda x: 1 if x == 'Fiber optic' else 0)\n",
    "# drop useless columns\n",
    "df = df.drop(columns = 'InternetService')\n"
   ]
  },
  {
   "cell_type": "code",
   "execution_count": null,
   "metadata": {
    "colab": {},
    "colab_type": "code",
    "id": "cIvzDiDH5jjW"
   },
   "outputs": [],
   "source": [
    "# replace features with only two possible values with binary value. We know that if the customer has no \n",
    "# internet service then the customer will not have the service feature. The same goes for multiple lines.\n",
    "binary_map = {'Yes': 1, 'No': 0, 'No internet service': 0, 'No phone service': 0, 'Female': 0, 'Male': 1}\n",
    "replace_dict = {'gender': binary_map,\n",
    "                'Partner': binary_map,\n",
    "                'Dependents': binary_map,\n",
    "                'PhoneService': binary_map,\n",
    "                'OnlineSecurity': binary_map,\n",
    "                'OnlineBackup': binary_map,\n",
    "                'DeviceProtection': binary_map,\n",
    "                'TechSupport': binary_map,\n",
    "                'StreamingTV': binary_map,\n",
    "                'StreamingMovies': binary_map,\n",
    "                'PaperlessBilling': binary_map,\n",
    "                'Churn': binary_map,\n",
    "                'MultipleLines': binary_map}\n",
    "df = df.replace(replace_dict, inplace = False)\n",
    "df = df.rename(columns = {'gender': 'Male'})"
   ]
  },
  {
   "cell_type": "code",
   "execution_count": null,
   "metadata": {
    "colab": {},
    "colab_type": "code",
    "id": "j6JFjDY85jdZ"
   },
   "outputs": [],
   "source": [
    "# still need to encode contract and payment method features, we use one hot encoding\n",
    "dummies = pd.get_dummies(df[['Contract', 'PaymentMethod']], prefix = ['Contract',  'Payment'], prefix_sep = '=')\n",
    "df = pd.concat([df, dummies], axis = 1)\n",
    "df = df.drop(columns = ['Contract', 'PaymentMethod'])\n",
    "\n",
    "for col in df.columns:\n",
    "    if df[col].dtype == 'object':\n",
    "        df[col] = df[col].astype(int)"
   ]
  },
  {
   "cell_type": "code",
   "execution_count": 106,
   "metadata": {
    "colab": {
     "base_uri": "https://localhost:8080/",
     "height": 561
    },
    "colab_type": "code",
    "executionInfo": {
     "elapsed": 394,
     "status": "ok",
     "timestamp": 1584725284565,
     "user": {
      "displayName": "Myriam Ghali",
      "photoUrl": "",
      "userId": "12645294788233589682"
     },
     "user_tz": -60
    },
    "id": "uWBnNRnT4_L6",
    "outputId": "1b4332fe-1c7a-4acb-d4be-9735cceda44f"
   },
   "outputs": [
    {
     "name": "stdout",
     "output_type": "stream",
     "text": [
      "<class 'pandas.core.frame.DataFrame'>\n",
      "Index: 7032 entries, 7590-VHVEG to 3186-AJIEK\n",
      "Data columns (total 27 columns):\n",
      "Male                                 7032 non-null int64\n",
      "SeniorCitizen                        7032 non-null int64\n",
      "Partner                              7032 non-null int64\n",
      "Dependents                           7032 non-null int64\n",
      "tenure                               7032 non-null int64\n",
      "PhoneService                         7032 non-null int64\n",
      "MultipleLines                        7032 non-null int64\n",
      "OnlineSecurity                       7032 non-null int64\n",
      "OnlineBackup                         7032 non-null int64\n",
      "DeviceProtection                     7032 non-null int64\n",
      "TechSupport                          7032 non-null int64\n",
      "StreamingTV                          7032 non-null int64\n",
      "StreamingMovies                      7032 non-null int64\n",
      "PaperlessBilling                     7032 non-null int64\n",
      "MonthlyCharges                       7032 non-null float64\n",
      "TotalCharges                         7032 non-null float64\n",
      "Churn                                7032 non-null int64\n",
      "Internet                             7032 non-null int64\n",
      "DSL                                  7032 non-null int64\n",
      "FiberOptic                           7032 non-null int64\n",
      "Contract=Month-to-month              7032 non-null uint8\n",
      "Contract=One year                    7032 non-null uint8\n",
      "Contract=Two year                    7032 non-null uint8\n",
      "Payment=Bank transfer (automatic)    7032 non-null uint8\n",
      "Payment=Credit card (automatic)      7032 non-null uint8\n",
      "Payment=Electronic check             7032 non-null uint8\n",
      "Payment=Mailed check                 7032 non-null uint8\n",
      "dtypes: float64(2), int64(18), uint8(7)\n",
      "memory usage: 1.2+ MB\n"
     ]
    }
   ],
   "source": [
    "# Finished encoding, all dtypes are either int or float\n",
    "df.info()"
   ]
  },
  {
   "cell_type": "markdown",
   "metadata": {
    "colab_type": "text",
    "id": "n47zaktj4iey"
   },
   "source": [
    "# Feature selection\n"
   ]
  },
  {
   "cell_type": "markdown",
   "metadata": {
    "colab_type": "text",
    "id": "TuI1Lwou4nrb"
   },
   "source": [
    "> Features selection allows us to choose the most relevant criterias to determine if a client will churn or not, while discarding any criterias that could lead us to a wrong prediction"
   ]
  },
  {
   "cell_type": "code",
   "execution_count": null,
   "metadata": {
    "colab": {},
    "colab_type": "code",
    "id": "4vlALkUi4EHH"
   },
   "outputs": [],
   "source": [
    "# separate exo/indogenoeous variables\n",
    "X, y = df.drop(columns = 'Churn'), df[['Churn']]\n",
    "X_norm = preprocessing.MinMaxScaler().fit_transform(X)"
   ]
  },
  {
   "cell_type": "markdown",
   "metadata": {
    "colab_type": "text",
    "id": "p03_n32K4aZU"
   },
   "source": [
    "## Recursive selection\n"
   ]
  },
  {
   "cell_type": "code",
   "execution_count": null,
   "metadata": {
    "colab": {},
    "colab_type": "code",
    "id": "w1SuEQC54EB1"
   },
   "outputs": [],
   "source": [
    "#Allows us to determine the optimal number of features to select for perdiction\n",
    "selector_rfe = RFECV(estimator=SVC(kernel = 'linear'), cv = StratifiedKFold(10), step = 1)\n",
    "selector_rfe = selector_rfe.fit(X_norm, y)"
   ]
  },
  {
   "cell_type": "code",
   "execution_count": 111,
   "metadata": {
    "colab": {
     "base_uri": "https://localhost:8080/",
     "height": 295
    },
    "colab_type": "code",
    "executionInfo": {
     "elapsed": 228668,
     "status": "ok",
     "timestamp": 1584725563186,
     "user": {
      "displayName": "Myriam Ghali",
      "photoUrl": "",
      "userId": "12645294788233589682"
     },
     "user_tz": -60
    },
    "id": "asvcj51o4D9H",
    "outputId": "1ebff14f-a9b0-4212-fc53-c58fc595d87b"
   },
   "outputs": [
    {
     "data": {
      "image/png": "[encoded data removed]",
      "text/plain": [
       "<Figure size 432x288 with 1 Axes>"
      ]
     },
     "metadata": {
      "tags": []
     },
     "output_type": "display_data"
    }
   ],
   "source": [
    "#Show RFE results \n",
    "plt.plot(np.arange(1,27), selector_rfe.grid_scores_)\n",
    "plt.title('Determing optimal number of features to consider')\n",
    "plt.ylabel('Accuracy')\n",
    "plt.xlabel('Number of features')\n",
    "plt.show()"
   ]
  },
  {
   "cell_type": "code",
   "execution_count": null,
   "metadata": {
    "colab": {},
    "colab_type": "code",
    "id": "8AJoFFsD35s_"
   },
   "outputs": [],
   "source": [
    "optimal_number = np.argmax(selector_rfe.grid_scores_)\n",
    "max_accuracy = selector_rfe.grid_scores_[optimal_number]\n",
    "mask_rfe = selector_rfe.support_"
   ]
  },
  {
   "cell_type": "code",
   "execution_count": null,
   "metadata": {
    "colab": {},
    "colab_type": "code",
    "id": "TYIxiSpF357d"
   },
   "outputs": [],
   "source": [
    "#num_feats = optimal_number\n",
    "num_feats = 7\n",
    "rfe_feature = X.loc[:,mask_rfe].columns.tolist()"
   ]
  },
  {
   "cell_type": "markdown",
   "metadata": {
    "colab_type": "text",
    "id": "hNDo8NQ139uT"
   },
   "source": [
    "## SelectKBest\n"
   ]
  },
  {
   "cell_type": "code",
   "execution_count": null,
   "metadata": {
    "colab": {},
    "colab_type": "code",
    "id": "W9Lkog9N36HS"
   },
   "outputs": [],
   "source": [
    "# use the selet k best method from sklearn and evaluate with the chi squared function\n",
    "X_norm = preprocessing.MinMaxScaler().fit_transform(X)\n",
    "selector_kbest = SelectKBest(score_func = chi2, k = 'all')\n",
    "selector_kbest.fit(X_norm, y)\n",
    "mask_kbest = selector_kbest.get_support()\n",
    "features_kbest = pd.Series(data = selector_kbest.scores_, index = X.columns)\n",
    "features_kbest_sorted = features_kbest.sort_values(ascending = False)\n",
    "\n",
    "chi_feature = features_kbest_sorted.index[:num_feats].tolist()"
   ]
  },
  {
   "cell_type": "code",
   "execution_count": 115,
   "metadata": {
    "colab": {
     "base_uri": "https://localhost:8080/",
     "height": 448
    },
    "colab_type": "code",
    "executionInfo": {
     "elapsed": 2123,
     "status": "ok",
     "timestamp": 1584725565343,
     "user": {
      "displayName": "Myriam Ghali",
      "photoUrl": "",
      "userId": "12645294788233589682"
     },
     "user_tz": -60
    },
    "id": "nfUpu9yd3nhF",
    "outputId": "f4499df7-3f6b-4745-be1f-e2e8dfad17df"
   },
   "outputs": [
    {
     "data": {
      "image/png": "[encoded data removed]",
      "text/plain": [
       "<Figure size 1008x504 with 1 Axes>"
      ]
     },
     "metadata": {
      "tags": []
     },
     "output_type": "display_data"
    }
   ],
   "source": [
    "# show features from best to worst (mind the log scale)\n",
    "fig, ax = plt.subplots(figsize = (14, 7))\n",
    "_ = sns.barplot(y = features_kbest_sorted.index, x = features_kbest_sorted.values, orient = 'h', ax = ax,\n",
    "                palette = sns.cubehelix_palette(len(features_kbest), reverse = True))\n",
    "ax.set_xscale(\"log\")\n",
    "ax.set_title('Best features based on SelectKBest')\n",
    "plt.show()\n"
   ]
  },
  {
   "cell_type": "markdown",
   "metadata": {
    "colab_type": "text",
    "id": "h-fQ5e4v301T"
   },
   "source": [
    "## ExtraTreesClassifier"
   ]
  },
  {
   "cell_type": "code",
   "execution_count": null,
   "metadata": {
    "colab": {},
    "colab_type": "code",
    "id": "xGYronM_3nca"
   },
   "outputs": [],
   "source": [
    "# use the extra trees classifire from sklearn\n",
    "common = 2 #we think that common% of the people who have churned must be in the sample to do deeper in the node of the tree\n",
    "min_samples_leaf = int(common * churned / 100)\n",
    "selector_trees_gini = ExtraTreesClassifier(criterion = 'gini', min_samples_leaf = min_samples_leaf)\n",
    "selector_trees_gini.fit(X, y)\n",
    "features_trees_gini = pd.Series(data = selector_trees_gini.feature_importances_, index = X.columns)\n",
    "features_trees_sorted_gini = features_trees_gini.sort_values(ascending = False)\n",
    "\n",
    "trees_feature_gini = features_trees_sorted_gini.index[:num_feats].tolist()"
   ]
  },
  {
   "cell_type": "code",
   "execution_count": 117,
   "metadata": {
    "colab": {
     "base_uri": "https://localhost:8080/",
     "height": 444
    },
    "colab_type": "code",
    "executionInfo": {
     "elapsed": 2524,
     "status": "ok",
     "timestamp": 1584725565749,
     "user": {
      "displayName": "Myriam Ghali",
      "photoUrl": "",
      "userId": "12645294788233589682"
     },
     "user_tz": -60
    },
    "id": "cIFRVE6g3nX9",
    "outputId": "d15a752b-994f-4272-d4ef-dd0d02630062"
   },
   "outputs": [
    {
     "data": {
      "image/png": "[encoded data removed]",
      "text/plain": [
       "<Figure size 1008x504 with 1 Axes>"
      ]
     },
     "metadata": {
      "tags": []
     },
     "output_type": "display_data"
    }
   ],
   "source": [
    "# show features from best to worst\n",
    "fig, ax = plt.subplots(figsize = (14, 7))\n",
    "_ = sns.barplot(y = features_trees_sorted_gini.index, x = features_trees_sorted_gini.values, orient = 'h', ax = ax,\n",
    "                palette = sns.cubehelix_palette(len(features_trees_gini), reverse = True))\n",
    "ax.set_title('Best features based on ExtraTreesClassifier with Gini')\n",
    "plt.show()"
   ]
  },
  {
   "cell_type": "code",
   "execution_count": null,
   "metadata": {
    "colab": {},
    "colab_type": "code",
    "id": "o7yaqVr43Zda"
   },
   "outputs": [],
   "source": [
    "# use the extra trees classifire from sklearn\n",
    "selector_trees_entropy = ExtraTreesClassifier(criterion = 'entropy', min_samples_leaf = min_samples_leaf)\n",
    "selector_trees_entropy.fit(X, y)\n",
    "features_trees_entropy = pd.Series(data = selector_trees_entropy.feature_importances_, index = X.columns)\n",
    "features_trees_sorted_entropy = features_trees_entropy.sort_values(ascending = False)\n",
    "\n",
    "trees_feature_entropy = features_trees_sorted_entropy.index[:num_feats].tolist()"
   ]
  },
  {
   "cell_type": "code",
   "execution_count": 119,
   "metadata": {
    "colab": {
     "base_uri": "https://localhost:8080/",
     "height": 444
    },
    "colab_type": "code",
    "executionInfo": {
     "elapsed": 3646,
     "status": "ok",
     "timestamp": 1584725566876,
     "user": {
      "displayName": "Myriam Ghali",
      "photoUrl": "",
      "userId": "12645294788233589682"
     },
     "user_tz": -60
    },
    "id": "1c3QtjdJ3ZZa",
    "outputId": "03b930d4-6349-4844-d454-14403adeecaa"
   },
   "outputs": [
    {
     "data": {
      "image/png": "[encoded data removed]",
      "text/plain": [
       "<Figure size 1008x504 with 1 Axes>"
      ]
     },
     "metadata": {
      "tags": []
     },
     "output_type": "display_data"
    }
   ],
   "source": [
    "# show features from best to worst\n",
    "fig, ax = plt.subplots(figsize = (14, 7))\n",
    "_ = sns.barplot(y = features_trees_sorted_entropy.index, x = features_trees_sorted_entropy.values, orient = 'h', ax = ax,\n",
    "                palette = sns.cubehelix_palette(len(features_trees_entropy), reverse = True))\n",
    "ax.set_title('Best features based on ExtraTreesClassifier with Entropy')\n",
    "plt.show()"
   ]
  },
  {
   "cell_type": "markdown",
   "metadata": {
    "colab_type": "text",
    "id": "zSS4gv1S_g9B"
   },
   "source": [
    "## Pearson correlation selection\n"
   ]
  },
  {
   "cell_type": "code",
   "execution_count": null,
   "metadata": {
    "colab": {},
    "colab_type": "code",
    "id": "l6D6Fl0X3ZVi"
   },
   "outputs": [],
   "source": [
    "def cor_selector(X, y, num_feats):\n",
    "    cor_list = []\n",
    "    feature_name = X.columns.tolist()\n",
    "    # calculate the correlation with y for each feature\n",
    "    for i in X.columns:\n",
    "        cor = np.corrcoef(X[i], y.iloc[:,0])[0, 1]\n",
    "        cor_list.append(cor)\n",
    "    # replace NaN with 0\n",
    "    cor_list = [0 if np.isnan(i) else i for i in cor_list]\n",
    "    # feature name\n",
    "    cor_feature = X.iloc[:,np.argsort(np.abs(cor_list))[-num_feats:]].columns.tolist()\n",
    "    # feature selection? 0 for not select, 1 for select\n",
    "    cor_support = [True if i in cor_feature else False for i in feature_name]\n",
    "    \n",
    "    return cor_support, cor_feature, cor_list"
   ]
  },
  {
   "cell_type": "code",
   "execution_count": 145,
   "metadata": {
    "colab": {
     "base_uri": "https://localhost:8080/",
     "height": 102
    },
    "colab_type": "code",
    "executionInfo": {
     "elapsed": 805,
     "status": "ok",
     "timestamp": 1584727978719,
     "user": {
      "displayName": "Myriam Ghali",
      "photoUrl": "",
      "userId": "12645294788233589682"
     },
     "user_tz": -60
    },
    "id": "T9zQt98q3ZRX",
    "outputId": "37662d7b-ef93-462b-aea8-8f1f42d44ff9"
   },
   "outputs": [
    {
     "data": {
      "text/plain": [
       "{'Contract=Month-to-month',\n",
       " 'Contract=Two year',\n",
       " 'FiberOptic',\n",
       " 'Payment=Electronic check',\n",
       " 'tenure'}"
      ]
     },
     "execution_count": 145,
     "metadata": {
      "tags": []
     },
     "output_type": "execute_result"
    }
   ],
   "source": [
    "cor_support, cor_feature, cor_list = cor_selector(X, y,num_feats)\n",
    "best_features_all = set(rfe_feature).intersection(set(chi_feature)).intersection(set(trees_feature_gini)).intersection(set(trees_feature_entropy)).intersection(set(cor_feature))\n",
    "best_features_all"
   ]
  },
  {
   "cell_type": "code",
   "execution_count": null,
   "metadata": {
    "colab": {},
    "colab_type": "code",
    "id": "forqLKnJH4gY"
   },
   "outputs": [],
   "source": [
    "best_features_all = list(best_features_all)"
   ]
  },
  {
   "cell_type": "code",
   "execution_count": null,
   "metadata": {
    "colab": {},
    "colab_type": "code",
    "id": "vUSWQBwT3UXl"
   },
   "outputs": [],
   "source": [
    "## Correlation matrix among all features\n",
    "corr_matrix_kendall = df.corr('kendall')\n",
    "corr_matrix_pearson = df.corr()"
   ]
  },
  {
   "cell_type": "code",
   "execution_count": null,
   "metadata": {
    "colab": {},
    "colab_type": "code",
    "id": "_BJpmXPf3UTE"
   },
   "outputs": [],
   "source": [
    "# plot heatmap of correelation matrix\n",
    "fig, ax = plt.subplots(figsize = (20, 20))\n",
    "ax = sns.heatmap(corr_matrix_kendall, annot = True, cmap = 'Purples')\n",
    "plt.xticks(rotation = 60)\n",
    "plt.title('Correlation map with Kendall method')\n",
    "plt.show()"
   ]
  },
  {
   "cell_type": "code",
   "execution_count": null,
   "metadata": {
    "colab": {},
    "colab_type": "code",
    "id": "xNnxN-8g3UPK"
   },
   "outputs": [],
   "source": [
    "# plot heatmap of correelation matrix\n",
    "fig, ax = plt.subplots(figsize = (20, 20))\n",
    "ax = sns.heatmap(corr_matrix_pearson, annot = True, cmap = 'Purples')\n",
    "plt.xticks(rotation = 60)\n",
    "plt.title('Correlation map with Pearson method')\n",
    "plt.show()"
   ]
  },
  {
   "cell_type": "markdown",
   "metadata": {
    "colab_type": "text",
    "id": "Saqd6SN5c8Fl"
   },
   "source": [
    "# Predicting churn"
   ]
  },
  {
   "cell_type": "markdown",
   "metadata": {
    "colab_type": "text",
    "id": "PpVDhuzpc8Fm"
   },
   "source": [
    "## Scaling the data"
   ]
  },
  {
   "cell_type": "code",
   "execution_count": null,
   "metadata": {
    "colab": {},
    "colab_type": "code",
    "id": "iSkmNnrDc8Fn"
   },
   "outputs": [],
   "source": [
    "min_max_scaler = preprocessing.MinMaxScaler(feature_range = (0, 1)) # reasonable since most categorial variables are either 0 or 1\n",
    "min_max_scaler = min_max_scaler.fit(df)\n",
    "df_min_max = min_max_scaler.transform(df)\n",
    "df_min_max = pd.DataFrame(data = df_min_max, columns = df.columns, index = df.index)\n",
    "CV = 7 #choose constant for all methods "
   ]
  },
  {
   "cell_type": "markdown",
   "metadata": {
    "colab_type": "text",
    "id": "ova-garTc8Fp"
   },
   "source": [
    "## K-Neighbors classifier"
   ]
  },
  {
   "cell_type": "code",
   "execution_count": null,
   "metadata": {
    "colab": {},
    "colab_type": "code",
    "id": "-nbCOsVjc8Fp"
   },
   "outputs": [],
   "source": [
    "# define grid parameters to use for gridsearch\n",
    "param_grid_kneigh = {'weights': ['uniform', 'distance'], \n",
    "                       'metric': ['euclidean', 'minkowski'], \n",
    "                       'n_neighbors': [2,3,5,7,11,17,23]\n",
    "                    }\n",
    "\n",
    "# define the classifier through a gridsearch and tune hyperparameters by cross-validation as well\n",
    "classifier_kneigh = GridSearchCV(KNeighborsClassifier(algorithm = 'auto'),\n",
    "                                scoring = 'accuracy',\n",
    "                                param_grid = param_grid_kneigh,\n",
    "                                cv = CV\n",
    "                                )"
   ]
  },
  {
   "cell_type": "markdown",
   "metadata": {
    "colab_type": "text",
    "id": "NLKKabTdc8Fs"
   },
   "source": [
    "## Random Tree"
   ]
  },
  {
   "cell_type": "code",
   "execution_count": null,
   "metadata": {
    "colab": {},
    "colab_type": "code",
    "id": "cwjpJ6xec8Ft"
   },
   "outputs": [],
   "source": [
    "# define grid parameters to use for gridsearch\n",
    "param_grid_trees = {'max_depth': [1, 5, 10, 50, 100, 200,500],\n",
    "                    'min_samples_split': [2, 4, 8, 16],\n",
    "                    'min_samples_leaf': [1, 5, 10, 50, 100, 200],\n",
    "                    }\n",
    "\n",
    "# define the classifier through a gridsearch and tune hyperparameters by cross-validation as well\n",
    "classifier_trees = GridSearchCV(DecisionTreeClassifier(),\n",
    "                                param_grid = param_grid_trees,\n",
    "                                scoring = 'accuracy',\n",
    "                                cv = CV\n",
    "                                )"
   ]
  },
  {
   "cell_type": "markdown",
   "metadata": {
    "colab_type": "text",
    "id": "S_4NFbHSc8Fw"
   },
   "source": [
    "## Random Forest"
   ]
  },
  {
   "cell_type": "code",
   "execution_count": null,
   "metadata": {
    "colab": {},
    "colab_type": "code",
    "id": "scNmZYtdc8Fx"
   },
   "outputs": [],
   "source": [
    "# define grid parameters to use for gridsearch\n",
    "param_grid_forest = {'n_estimators': [3,5,10,50,100,150,200],\n",
    "                     'max_depth': [1, 5, 10, 50],\n",
    "                     'min_samples_split': [2, 4, 8],\n",
    "                     'min_samples_leaf': [10, 50, 100, 200],\n",
    "                     }\n",
    "\n",
    "# define the classifier through a gridsearch and tune hyperparameters by cross-validation\n",
    "classifier_forest = GridSearchCV(RandomForestClassifier(),\n",
    "                                 param_grid = param_grid_forest,\n",
    "                                 scoring = 'accuracy',\n",
    "                                 cv = CV\n",
    "                                 )"
   ]
  },
  {
   "cell_type": "markdown",
   "metadata": {
    "colab_type": "text",
    "id": "3B32Yflvc8Fz"
   },
   "source": [
    "## Support Vector Machine "
   ]
  },
  {
   "cell_type": "code",
   "execution_count": null,
   "metadata": {
    "colab": {},
    "colab_type": "code",
    "id": "GLXWyczfc8F0"
   },
   "outputs": [],
   "source": [
    "# define grid parameters to use for gridsearch\n",
    "param_grid_svc = {'C': [1, 10, 100, 1000], \n",
    "                  'gamma': [0.1, 0.01, 0.001, 0.0001],\n",
    "                 }\n",
    "\n",
    "# define the classifier through a gridsearch and tune hyperparameters by cross-validation as well\n",
    "classifier_svc = GridSearchCV(SVC(kernel = 'rbf'),\n",
    "                              param_grid = param_grid_svc,\n",
    "                              scoring = 'accuracy',\n",
    "                              cv = CV\n",
    "                              )"
   ]
  },
  {
   "cell_type": "markdown",
   "metadata": {
    "colab_type": "text",
    "id": "Pr8dm86Rc8F2"
   },
   "source": [
    "## Split train/test set"
   ]
  },
  {
   "cell_type": "code",
   "execution_count": 127,
   "metadata": {
    "colab": {
     "base_uri": "https://localhost:8080/",
     "height": 221
    },
    "colab_type": "code",
    "executionInfo": {
     "elapsed": 558984,
     "status": "ok",
     "timestamp": 1584726197227,
     "user": {
      "displayName": "Myriam Ghali",
      "photoUrl": "",
      "userId": "12645294788233589682"
     },
     "user_tz": -60
    },
    "id": "7Tt0bP2t8i9M",
    "outputId": "c146b29a-a855-45e3-844a-3b1c893c94f0"
   },
   "outputs": [
    {
     "data": {
      "text/plain": [
       "GridSearchCV(cv=7, error_score=nan,\n",
       "             estimator=SVC(C=1.0, break_ties=False, cache_size=200,\n",
       "                           class_weight=None, coef0=0.0,\n",
       "                           decision_function_shape='ovr', degree=3,\n",
       "                           gamma='scale', kernel='rbf', max_iter=-1,\n",
       "                           probability=False, random_state=None, shrinking=True,\n",
       "                           tol=0.001, verbose=False),\n",
       "             iid='deprecated', n_jobs=None,\n",
       "             param_grid={'C': [1, 10, 100, 1000],\n",
       "                         'gamma': [0.1, 0.01, 0.001, 0.0001]},\n",
       "             pre_dispatch='2*n_jobs', refit=True, return_train_score=False,\n",
       "             scoring='accuracy', verbose=0)"
      ]
     },
     "execution_count": 127,
     "metadata": {
      "tags": []
     },
     "output_type": "execute_result"
    }
   ],
   "source": [
    "X_best_all = df_min_max[best_features_all]\n",
    "X_train_best, X_test_best, y_train_best, y_test_best = train_test_split(X_best_all, y, test_size = 0.2)\n",
    "X_train_forest_best, X_test_forest_best, y_train_forest_best, y_test_forest_best = train_test_split(df[best_features_all], y, test_size = 0.2)\n",
    "classifier_kneigh.fit(X_train_best, y_train_best)\n",
    "classifier_trees.fit(X_train_best, y_train_best)\n",
    "classifier_forest.fit(X_train_forest_best, y_train_forest_best)\n",
    "classifier_svc.fit(X_train_best, y_train_best)"
   ]
  },
  {
   "cell_type": "code",
   "execution_count": null,
   "metadata": {
    "colab": {},
    "colab_type": "code",
    "id": "8GVjI99S-NNU"
   },
   "outputs": [],
   "source": [
    "best_score = []\n",
    "best_score.append(classifier_kneigh.score(X_test_best, y_test_best))\n",
    "best_score.append(classifier_trees.score(X_test_best, y_test_best))\n",
    "best_score.append(classifier_forest.score(X_test_forest_best,y_test_forest_best))\n",
    "best_score.append(classifier_svc.score(X_test_best, y_test_best))\n",
    "\n",
    "best_index = ['K-Neigh', 'Trees', 'Forest', 'SVC']"
   ]
  },
  {
   "cell_type": "code",
   "execution_count": 131,
   "metadata": {
    "colab": {
     "base_uri": "https://localhost:8080/",
     "height": 295
    },
    "colab_type": "code",
    "executionInfo": {
     "elapsed": 728,
     "status": "ok",
     "timestamp": 1584726324126,
     "user": {
      "displayName": "Myriam Ghali",
      "photoUrl": "",
      "userId": "12645294788233589682"
     },
     "user_tz": -60
    },
    "id": "cNjyhX_I-sTx",
    "outputId": "6c08ea49-d871-44bf-bcf0-8895abb947c8"
   },
   "outputs": [
    {
     "data": {
      "image/png": "[encoded data removed]",
      "text/plain": [
       "<Figure size 432x288 with 1 Axes>"
      ]
     },
     "metadata": {
      "tags": []
     },
     "output_type": "display_data"
    }
   ],
   "source": [
    "plt.scatter(best_index, best_score)\n",
    "plt.title('Accuracy scores for all methods with common best features')\n",
    "plt.ylabel('Accuracy')\n",
    "plt.xlabel('Method used for prediction')\n",
    "plt.show()"
   ]
  },
  {
   "cell_type": "code",
   "execution_count": null,
   "metadata": {
    "colab": {},
    "colab_type": "code",
    "id": "SxzkDN2vc8F3"
   },
   "outputs": [],
   "source": [
    "# split 80/20 ratio \n",
    "score_trees = []\n",
    "score_forest = []\n",
    "score_svc = []\n",
    "score_kneigh = []\n",
    "\n",
    "#test for all methods \n",
    "i = 3\n",
    "while i < 11: \n",
    "    # selection from algorithm\n",
    "    selected_features_kbest = features_kbest_sorted.index[0:i]\n",
    "    selected_features_gini = features_trees_sorted_gini.index[0:i]\n",
    "    selected_features_entropy = features_trees_sorted_entropy.index[0:i]\n",
    "    \n",
    "    features = [selected_features_kbest, selected_features_gini, selected_features_entropy, cor_feature]\n",
    "    for f in features: \n",
    "        X_feat_min_max = df_min_max[f]\n",
    "        X_train, X_test, y_train, y_test = train_test_split(X_feat_min_max, y, test_size = 0.2)\n",
    "        X_train_forest, X_test_forest, y_train_forest, y_test_forest = train_test_split(df[f], y, test_size = 0.2)\n",
    "        \n",
    "        classifier_kneigh.fit(X_train, y_train) \n",
    "        classifier_trees.fit(X_train, y_train)\n",
    "        classifier_forest.fit(X_train_forest, y_train_forest)\n",
    "        classifier_svc.fit(X_train, y_train)\n",
    "        \n",
    "        score_kneigh.append(classifier_kneigh.score(X_test, y_test))\n",
    "        score_trees.append(classifier_trees.score(X_test, y_test))\n",
    "        score_forest.append(classifier_forest.score(X_test_forest,y_test_forest))\n",
    "        score_svc.append(classifier_svc.score(X_test, y_test))\n",
    "        \n",
    "    i = i + 1 \n"
   ]
  },
  {
   "cell_type": "code",
   "execution_count": null,
   "metadata": {
    "colab": {},
    "colab_type": "code",
    "id": "6H8rklSFppuX"
   },
   "outputs": [],
   "source": [
    "with open('score_svc.pickle', 'wb') as f:\n",
    "    pickle.dump(score_svc, f)\n",
    "with open('score_kneigh.pickle', 'wb') as f:\n",
    "    pickle.dump(score_kneigh, f)\n",
    "with open('score_trees.pickle', 'wb') as f:\n",
    "    pickle.dump(score_trees, f)\n",
    "with open('score_forest.pickle', 'wb') as f:\n",
    "    pickle.dump(score_forest, f)"
   ]
  },
  {
   "cell_type": "code",
   "execution_count": null,
   "metadata": {
    "colab": {},
    "colab_type": "code",
    "id": "R4r56EPwc8F7"
   },
   "outputs": [],
   "source": [
    "index_selection = ['K-best', 'Tree-Gini', 'Tree-Entropy', 'Pearson Correlation']"
   ]
  },
  {
   "cell_type": "code",
   "execution_count": 91,
   "metadata": {
    "colab": {
     "base_uri": "https://localhost:8080/",
     "height": 281
    },
    "colab_type": "code",
    "executionInfo": {
     "elapsed": 649,
     "status": "ok",
     "timestamp": 1584722632856,
     "user": {
      "displayName": "Myriam Ghali",
      "photoUrl": "",
      "userId": "12645294788233589682"
     },
     "user_tz": -60
    },
    "id": "kFDXgBphsYtP",
    "outputId": "e5d7bf12-811e-4553-e47e-114bf730006a"
   },
   "outputs": [
    {
     "data": {
      "image/png": "[encoded data removed]",
      "text/plain": [
       "<Figure size 432x288 with 1 Axes>"
      ]
     },
     "metadata": {
      "tags": []
     },
     "output_type": "display_data"
    }
   ],
   "source": [
    "plt.scatter(index_selection, score_kneigh[0:4])\n",
    "plt.scatter(index_selection, score_kneigh[4:8])\n",
    "plt.scatter(index_selection, score_kneigh[8:12])\n",
    "plt.scatter(index_selection, score_kneigh[12:16])\n",
    "plt.scatter(index_selection, score_kneigh[16:20])\n",
    "plt.scatter(index_selection, score_kneigh[20:24])\n",
    "plt.legend(['Top 3 feature', 'Top 4 features', 'Top 5 features', 'Top 6 features', 'Top 7 features', 'Top 8 features'], loc='lower left')\n",
    "plt.title('Accuracy scores for differently selected features for K-Neighbors method')\n",
    "plt.ylabel('Accuracy')\n",
    "plt.xlabel('Method used for features selection')\n",
    "plt.show()"
   ]
  },
  {
   "cell_type": "code",
   "execution_count": 92,
   "metadata": {
    "colab": {
     "base_uri": "https://localhost:8080/",
     "height": 281
    },
    "colab_type": "code",
    "executionInfo": {
     "elapsed": 688,
     "status": "ok",
     "timestamp": 1584722644769,
     "user": {
      "displayName": "Myriam Ghali",
      "photoUrl": "",
      "userId": "12645294788233589682"
     },
     "user_tz": -60
    },
    "id": "iuXaXoMOc8GG",
    "outputId": "ec3031bc-6fab-435c-afd5-0971ae726b7f"
   },
   "outputs": [
    {
     "data": {
      "image/png": "[encoded data removed]",
      "text/plain": [
       "<Figure size 432x288 with 1 Axes>"
      ]
     },
     "metadata": {
      "tags": []
     },
     "output_type": "display_data"
    }
   ],
   "source": [
    "plt.scatter(index_selection, score_forest[0:4])\n",
    "plt.scatter(index_selection, score_forest[4:8])\n",
    "plt.scatter(index_selection, score_forest[8:12])\n",
    "plt.scatter(index_selection, score_forest[12:16])\n",
    "plt.scatter(index_selection, score_forest[16:20])\n",
    "plt.scatter(index_selection, score_forest[20:24])\n",
    "plt.title('Accuracy scores for differently selected features for Forest method')\n",
    "plt.legend(['Top 3 feature', 'Top 4 features', 'Top 5 features', 'Top 6 features', 'Top 7 features', 'Top 8 features'], loc='lower left')\n",
    "plt.ylabel('Accuracy')\n",
    "plt.xlabel('Method used for features selection')\n",
    "plt.show()"
   ]
  },
  {
   "cell_type": "code",
   "execution_count": 93,
   "metadata": {
    "colab": {
     "base_uri": "https://localhost:8080/",
     "height": 281
    },
    "colab_type": "code",
    "executionInfo": {
     "elapsed": 691,
     "status": "ok",
     "timestamp": 1584722704153,
     "user": {
      "displayName": "Myriam Ghali",
      "photoUrl": "",
      "userId": "12645294788233589682"
     },
     "user_tz": -60
    },
    "id": "5UIIXO8Kc8GH",
    "outputId": "c170aabc-f506-4b07-87b1-53186f7cdb81"
   },
   "outputs": [
    {
     "data": {
      "image/png": "[encoded data removed]",
      "text/plain": [
       "<Figure size 432x288 with 1 Axes>"
      ]
     },
     "metadata": {
      "tags": []
     },
     "output_type": "display_data"
    }
   ],
   "source": [
    "plt.scatter(index_selection, score_trees[0:4])\n",
    "plt.scatter(index_selection, score_trees[4:8])\n",
    "plt.scatter(index_selection, score_trees[8:12])\n",
    "plt.scatter(index_selection, score_trees[12:16])\n",
    "plt.scatter(index_selection, score_trees[16:20])\n",
    "plt.scatter(index_selection, score_trees[20:24])\n",
    "plt.title('Accuracy scores for differently selected features for Trees method')\n",
    "plt.legend(['Top 3 feature', 'Top 4 features', 'Top 5 features', 'Top 6 features', 'Top 7 features', 'Top 8 features'], loc='lower left')\n",
    "plt.ylabel('Accuracy')\n",
    "plt.xlabel('Method used for features selection')\n",
    "plt.show()"
   ]
  },
  {
   "cell_type": "code",
   "execution_count": 94,
   "metadata": {
    "colab": {
     "base_uri": "https://localhost:8080/",
     "height": 281
    },
    "colab_type": "code",
    "executionInfo": {
     "elapsed": 828,
     "status": "ok",
     "timestamp": 1584722932204,
     "user": {
      "displayName": "Myriam Ghali",
      "photoUrl": "",
      "userId": "12645294788233589682"
     },
     "user_tz": -60
    },
    "id": "nV8gqHs7c8GK",
    "outputId": "9eb44ea3-3f8b-4983-f6eb-df468acf2db1"
   },
   "outputs": [
    {
     "data": {
      "image/png": "[encoded data removed]",
      "text/plain": [
       "<Figure size 432x288 with 1 Axes>"
      ]
     },
     "metadata": {
      "tags": []
     },
     "output_type": "display_data"
    }
   ],
   "source": [
    "plt.scatter(index_selection, score_svc[0:4])\n",
    "plt.scatter(index_selection, score_svc[4:8])\n",
    "plt.scatter(index_selection, score_svc[8:12])\n",
    "plt.scatter(index_selection, score_svc[12:16])\n",
    "plt.scatter(index_selection, score_svc[16:20])\n",
    "plt.scatter(index_selection, score_svc[20:24])\n",
    "plt.title('Accuracy scores for differently selected features for SVC method')\n",
    "plt.legend(['Top 3 feature', 'Top 4 features', 'Top 5 features', 'Top 6 features', 'Top 7 features', 'Top 8 features'], loc='lower left')\n",
    "plt.ylabel('Accuracy')\n",
    "plt.xlabel('Method used for features selection')\n",
    "plt.show()"
   ]
  }
 ],
 "metadata": {
  "accelerator": "GPU",
  "colab": {
   "collapsed_sections": [
    "hsbE_FTx547f",
    "Saqd6SN5c8Fl"
   ],
   "machine_shape": "hm",
   "name": "PS2.ipynb",
   "provenance": []
  },
  "kernelspec": {
   "display_name": "Python 3",
   "language": "python",
   "name": "python3"
  },
  "language_info": {
   "codemirror_mode": {
    "name": "ipython",
    "version": 3
   },
   "file_extension": ".py",
   "mimetype": "text/x-python",
   "name": "python",
   "nbconvert_exporter": "python",
   "pygments_lexer": "ipython3",
   "version": "3.7.4"
  }
 },
 "nbformat": 4,
 "nbformat_minor": 4
}
